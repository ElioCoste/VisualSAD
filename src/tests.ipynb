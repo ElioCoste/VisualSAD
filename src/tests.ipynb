{
 "cells": [
  {
   "cell_type": "code",
   "execution_count": 1,
   "id": "89ea3450",
   "metadata": {},
   "outputs": [],
   "source": [
    "from utils import PATHS\n",
    "\n",
    "from dataset import AVADataset"
   ]
  },
  {
   "cell_type": "code",
   "execution_count": 5,
   "id": "31ee4619",
   "metadata": {},
   "outputs": [
    {
     "name": "stderr",
     "output_type": "stream",
     "text": [
      "d:\\Program Files\\Python312\\Lib\\site-packages\\torchaudio\\functional\\functional.py:584: UserWarning: At least one mel filterbank has all zero values. The value for `n_mels` (128) may be set too high. Or, the value for `n_freqs` (201) may be set too low.\n",
      "  warnings.warn(\n"
     ]
    },
    {
     "name": "stdout",
     "output_type": "stream",
     "text": [
      "Creating dataset train\n",
      "Creating dataset directories\n"
     ]
    },
    {
     "name": "stderr",
     "output_type": "stream",
     "text": [
      "Processing vfjywN5CN0Y:   0%|          | 0/10 [00:00<?, ?it/s]"
     ]
    },
    {
     "name": "stderr",
     "output_type": "stream",
     "text": [
      "Processing vfjywN5CN0Y: 100%|██████████| 10/10 [00:00<00:00, 52.49it/s]\n"
     ]
    }
   ],
   "source": [
    "train_dataset = AVADataset(mode=\"train\")"
   ]
  },
  {
   "cell_type": "code",
   "execution_count": 6,
   "id": "8db33e88",
   "metadata": {},
   "outputs": [
    {
     "data": {
      "text/plain": [
       "([0, 30, 64, 91, 130, 162, 208, 252, 267, 277, 284], 284)"
      ]
     },
     "execution_count": 6,
     "metadata": {},
     "output_type": "execute_result"
    }
   ],
   "source": [
    "train_dataset.seg_cum_idx, len(train_dataset)"
   ]
  },
  {
   "cell_type": "code",
   "execution_count": 7,
   "id": "917e91ce",
   "metadata": {},
   "outputs": [
    {
     "name": "stdout",
     "output_type": "stream",
     "text": [
      "Loading segment vfjywN5CN0Y/0900_0960 (0)\n",
      "Segment index in dataframe: 0\n",
      "Segment index in subset: 0\n",
      "   start_time  end_time\n",
      "0      900.00    901.28\n",
      "1      901.32    902.60\n",
      "2      902.64    903.45\n",
      "3      903.87    905.15\n",
      "4      905.19    906.45\n",
      "   start_time  end_time                 entity_id\n",
      "0    900.0000  902.0400   vfjywN5CN0Y_0900_0960_1\n",
      "1    933.2900  935.5000  vfjywN5CN0Y_0900_0960_14\n",
      "2    902.0800  903.4501   vfjywN5CN0Y_0900_0960_2\n",
      "3    935.7900  937.8701  vfjywN5CN0Y_0900_0960_20\n",
      "4    937.9101  947.8700  vfjywN5CN0Y_0900_0960_21\n",
      "Context entities: ['vfjywN5CN0Y_0900_0960_1']\n"
     ]
    }
   ],
   "source": [
    "train_dataset[0]"
   ]
  },
  {
   "cell_type": "code",
   "execution_count": null,
   "id": "4da41951",
   "metadata": {},
   "outputs": [],
   "source": []
  }
 ],
 "metadata": {
  "kernelspec": {
   "display_name": "Python 3",
   "language": "python",
   "name": "python3"
  },
  "language_info": {
   "codemirror_mode": {
    "name": "ipython",
    "version": 3
   },
   "file_extension": ".py",
   "mimetype": "text/x-python",
   "name": "python",
   "nbconvert_exporter": "python",
   "pygments_lexer": "ipython3",
   "version": "3.12.10"
  }
 },
 "nbformat": 4,
 "nbformat_minor": 5
}
