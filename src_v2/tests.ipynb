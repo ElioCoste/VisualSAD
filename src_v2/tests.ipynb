{
 "cells": [
  {
   "cell_type": "markdown",
   "id": "d0d33b6b",
   "metadata": {},
   "source": [
    "# Visual features extraction"
   ]
  },
  {
   "cell_type": "code",
   "execution_count": 4,
   "id": "6e0a47e4",
   "metadata": {},
   "outputs": [],
   "source": [
    "from main_model import MainModel"
   ]
  },
  {
   "cell_type": "code",
   "execution_count": 6,
   "id": "a14098e4",
   "metadata": {},
   "outputs": [
    {
     "ename": "ImportError",
     "evalue": "cannot import name 'NUM_CLASSES' from 'utils' (d:\\Documents\\GitHub\\VisualSAD\\src_v2\\utils.py)",
     "output_type": "error",
     "traceback": [
      "\u001b[31m---------------------------------------------------------------------------\u001b[39m",
      "\u001b[31mImportError\u001b[39m                               Traceback (most recent call last)",
      "\u001b[36mCell\u001b[39m\u001b[36m \u001b[39m\u001b[32mIn[6]\u001b[39m\u001b[32m, line 2\u001b[39m\n\u001b[32m      1\u001b[39m \u001b[38;5;28;01mfrom\u001b[39;00m\u001b[38;5;250m \u001b[39m\u001b[34;01mconfig\u001b[39;00m\u001b[38;5;250m \u001b[39m\u001b[38;5;28;01mimport\u001b[39;00m cfg, input_shape\n\u001b[32m----> \u001b[39m\u001b[32m2\u001b[39m \u001b[38;5;28;01mfrom\u001b[39;00m\u001b[38;5;250m \u001b[39m\u001b[34;01mutils\u001b[39;00m\u001b[38;5;250m \u001b[39m\u001b[38;5;28;01mimport\u001b[39;00m T, C, NUM_CLASSES\n\u001b[32m      3\u001b[39m \u001b[38;5;28;01mfrom\u001b[39;00m\u001b[38;5;250m \u001b[39m\u001b[34;01mdetectron2\u001b[39;00m\u001b[34;01m.\u001b[39;00m\u001b[34;01mlayers\u001b[39;00m\u001b[38;5;250m \u001b[39m\u001b[38;5;28;01mimport\u001b[39;00m ShapeSpec\n\u001b[32m      4\u001b[39m \u001b[38;5;28;01mimport\u001b[39;00m\u001b[38;5;250m \u001b[39m\u001b[34;01mtorch\u001b[39;00m\n",
      "\u001b[31mImportError\u001b[39m: cannot import name 'NUM_CLASSES' from 'utils' (d:\\Documents\\GitHub\\VisualSAD\\src_v2\\utils.py)"
     ]
    }
   ],
   "source": [
    "from config import cfg, input_shape\n",
    "from utils import T, C, NUM_CLASSES\n",
    "from detectron2.layers import ShapeSpec\n",
    "import torch\n",
    "\n",
    "B = 1\n",
    "T = 5\n",
    "\n",
    "input_shape = ShapeSpec(\n",
    "    channels=C,\n",
    "    height=256,\n",
    "    width=256,\n",
    ")\n",
    "\n",
    "model = MainModel(\n",
    "    input_shape_resnet=input_shape,\n",
    "    resnet_cfg=cfg,\n",
    "    T=T,\n",
    "    num_classes=NUM_CLASSES,\n",
    ")\n",
    "\n",
    "visual_features = model.forward_visual_encoder(torch.randn(B, T, C, 256, 256))\n",
    "audio_features = model.forward_audio_encoder(torch.randn(B, 4*T, 13))\n",
    "fused_features = model.forward_fusion(visual_features, audio_features)"
   ]
  },
  {
   "cell_type": "code",
   "execution_count": null,
   "id": "ad3ebecb",
   "metadata": {},
   "outputs": [],
   "source": [
    "[fused_features[i].shape for i in range(len(fused_features))]"
   ]
  },
  {
   "cell_type": "code",
   "execution_count": null,
   "id": "c359fbdc",
   "metadata": {},
   "outputs": [],
   "source": [
    "from detection_head import Head"
   ]
  },
  {
   "cell_type": "code",
   "execution_count": null,
   "id": "6d25221c",
   "metadata": {},
   "outputs": [],
   "source": [
    "detector = Head(nc=80, filters=[128, ])"
   ]
  }
 ],
 "metadata": {
  "kernelspec": {
   "display_name": "Python 3",
   "language": "python",
   "name": "python3"
  },
  "language_info": {
   "codemirror_mode": {
    "name": "ipython",
    "version": 3
   },
   "file_extension": ".py",
   "mimetype": "text/x-python",
   "name": "python",
   "nbconvert_exporter": "python",
   "pygments_lexer": "ipython3",
   "version": "3.12.10"
  }
 },
 "nbformat": 4,
 "nbformat_minor": 5
}
