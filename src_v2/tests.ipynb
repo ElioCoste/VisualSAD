{
 "cells": [
  {
   "cell_type": "markdown",
   "id": "d0d33b6b",
   "metadata": {},
   "source": [
    "# Visual features extraction"
   ]
  },
  {
   "cell_type": "code",
   "execution_count": 1,
   "id": "6e0a47e4",
   "metadata": {},
   "outputs": [],
   "source": [
    "from main_model import MainModel"
   ]
  },
  {
   "cell_type": "code",
   "execution_count": 3,
   "id": "a14098e4",
   "metadata": {},
   "outputs": [],
   "source": [
    "from config import cfg, input_shape\n",
    "from utils import T, C\n",
    "from detectron2.layers import ShapeSpec\n",
    "import torch\n",
    "\n",
    "B = 1\n",
    "T = 5\n",
    "\n",
    "input_shape = ShapeSpec(\n",
    "    channels=C,\n",
    "    height=256,\n",
    "    width=256,\n",
    ")\n",
    "\n",
    "model = MainModel(\n",
    "    input_shape_resnet=input_shape,\n",
    "    resnet_cfg=cfg,\n",
    "    T=T\n",
    ")\n",
    "\n",
    "visual_features = model.forward_visual_encoder(torch.randn(B, T, C, 256, 256))\n",
    "audio_features = model.forward_audio_encoder(torch.randn(B, 4*T, 13))"
   ]
  },
  {
   "cell_type": "code",
   "execution_count": 6,
   "id": "b5e57b96",
   "metadata": {},
   "outputs": [
    {
     "data": {
      "text/plain": [
       "(torch.Size([1, 5, 128]),\n",
       " [torch.Size([5, 128, 64, 64]),\n",
       "  torch.Size([5, 128, 32, 32]),\n",
       "  torch.Size([5, 128, 16, 16]),\n",
       "  torch.Size([5, 128, 8, 8]),\n",
       "  torch.Size([5, 128, 4, 4])])"
      ]
     },
     "execution_count": 6,
     "metadata": {},
     "output_type": "execute_result"
    }
   ],
   "source": [
    "audio_features.shape, [feature_map.shape for feature_map in visual_features.values()]"
   ]
  },
  {
   "cell_type": "code",
   "execution_count": null,
   "id": "5f36dde6",
   "metadata": {},
   "outputs": [],
   "source": []
  }
 ],
 "metadata": {
  "kernelspec": {
   "display_name": "Python 3",
   "language": "python",
   "name": "python3"
  },
  "language_info": {
   "codemirror_mode": {
    "name": "ipython",
    "version": 3
   },
   "file_extension": ".py",
   "mimetype": "text/x-python",
   "name": "python",
   "nbconvert_exporter": "python",
   "pygments_lexer": "ipython3",
   "version": "3.12.10"
  }
 },
 "nbformat": 4,
 "nbformat_minor": 5
}
