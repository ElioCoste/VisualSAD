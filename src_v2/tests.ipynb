{
 "cells": [
  {
   "cell_type": "code",
   "execution_count": 1,
   "id": "33041825",
   "metadata": {},
   "outputs": [
    {
     "name": "stderr",
     "output_type": "stream",
     "text": [
      "d:\\Program Files\\Python312\\Lib\\site-packages\\torch\\functional.py:539: UserWarning: torch.meshgrid: in an upcoming release, it will be required to pass the indexing argument. (Triggered internally at C:\\actions-runner\\_work\\pytorch\\pytorch\\pytorch\\aten\\src\\ATen\\native\\TensorShape.cpp:3638.)\n",
      "  return _VF.meshgrid(tensors, **kwargs)  # type: ignore[attr-defined]\n"
     ]
    }
   ],
   "source": [
    "from main_model import MainModel\n",
    "import torch\n",
    "from config import T, C, N_MFCC, H, W, NUM_CLASSES\n",
    "\n",
    "T = 2\n",
    "H = 128\n",
    "W = 128\n",
    "\n",
    "model = MainModel(\n",
    "    T=T, C=C, H=H, W=W,\n",
    "    N_MFCC=N_MFCC,\n",
    "    num_classes=NUM_CLASSES,\n",
    ")"
   ]
  },
  {
   "cell_type": "code",
   "execution_count": 3,
   "id": "5295893a",
   "metadata": {},
   "outputs": [
    {
     "data": {
      "text/plain": [
       "13575247"
      ]
     },
     "execution_count": 3,
     "metadata": {},
     "output_type": "execute_result"
    }
   ],
   "source": [
    "# Count the number of parameters in the model\n",
    "def count_parameters(model):\n",
    "    return sum(p.numel() for p in model.parameters() if p.requires_grad)\n",
    "\n",
    "count_parameters(model)"
   ]
  },
  {
   "cell_type": "code",
   "execution_count": 4,
   "id": "913a21a5",
   "metadata": {},
   "outputs": [],
   "source": [
    "device = torch.device(\"cuda\" if torch.cuda.is_available() else \"cpu\")\n",
    "model = model.to(device)\n",
    "\n",
    "optimizer = torch.optim.Adam(model.parameters(), lr=1e-4)\n",
    "scheduler = torch.optim.lr_scheduler.StepLR(\n",
    "    optimizer, step_size=10, gamma=0.1)"
   ]
  },
  {
   "cell_type": "code",
   "execution_count": 16,
   "id": "09ff404a",
   "metadata": {},
   "outputs": [],
   "source": [
    "audio = torch.randn(1, 4*T, 13)\n",
    "visual = torch.randn(1, T, C, H, W)\n",
    "targets = torch.randint(-1, NUM_CLASSES, (1, T, 25))\n",
    "boxes = torch.rand(1, T, 25, 4)"
   ]
  },
  {
   "cell_type": "code",
   "execution_count": 17,
   "id": "550b7bda",
   "metadata": {},
   "outputs": [],
   "source": [
    "audio_features = model.forward_audio_encoder(audio.to(device))\n",
    "visual_features = model.forward_visual_encoder(visual.to(device))\n",
    "fused_features = model.forward_fusion(visual_features, audio_features)\n",
    "head_output = model.forward_head(fused_features)"
   ]
  },
  {
   "cell_type": "markdown",
   "id": "4cc15f39",
   "metadata": {},
   "source": [
    "## Contrastive Loss"
   ]
  },
  {
   "cell_type": "code",
   "execution_count": null,
   "id": "ccff754a",
   "metadata": {},
   "outputs": [],
   "source": [
    "import torch.nn as nn\n",
    "\n",
    "class ContrastiveLoss(nn.Module):\n",
    "    def __init__(self, fmap_size, in_channels=128, out_dim=128, tau=1):\n",
    "        super(ContrastiveLoss, self).__init__()\n",
    "        self.temperature = tau\n",
    "        self.in_channels = in_channels\n",
    "        self.fmap_size = fmap_size\n",
    "        self.in_channels = in_channels\n",
    "        self.conv = nn.Conv2d(\n",
    "            in_channels=in_channels,\n",
    "            out_channels=1,\n",
    "            kernel_size=1,\n",
    "            stride=1,\n",
    "            padding=0,\n",
    "            bias=False\n",
    "        )\n",
    "        self.fc = nn.Linear(fmap_size, out_dim)\n",
    "        self.tau = tau\n",
    "\n",
    "    def forward(self, audio_features, visual_features, active_frames):\n",
    "        \"\"\"\n",
    "        Args:\n",
    "            audio_features: (B, T, C)\n",
    "            visual_features: (B, T, C, hi, wi)\n",
    "            active_frames: (B, T)\n",
    "        \"\"\"\n",
    "        batch_size, T, ... = audio_features.size()\n",
    "        V = V[active_frames]\n",
    "        V = visual_features.view(batch_size*T, -1)\n",
    "        \n",
    "        visual_features = self.conv(visual_features)\n",
    "        visual_features = self.fc(visual_features.view(visual_features.size(0), -1))\n",
    "        \n",
    "        A = audio_features.view(audio_features.size(0), -1)\n",
    "        V = visual_features.view(visual_features.size(0), -1)\n",
    "        A = A[active_frames]\n",
    "        A = A / torch.norm(A, dim=1, keepdim=True)\n",
    "        V = V / torch.norm(V, dim=1, keepdim=True)\n",
    "        s = torch.matmul(\n",
    "            A.view(A.size(0), -1).T,\n",
    "            V.view(V.size(0), -1)\n",
    "        )\n",
    "        exp_s = torch.exp(s / self.tau)\n",
    "        exp_diag = exp_s.diagonal(offset=0, dim1=-2, dim2=-1)\n",
    "        sum_exp = exp_s.sum(dim=1, keepdim=True) - exp_diag\n",
    "        # Compute the contrastive loss\n",
    "        return -torch.log(exp_diag / sum_exp).mean()\n"
   ]
  },
  {
   "cell_type": "code",
   "execution_count": null,
   "id": "2d538511",
   "metadata": {},
   "outputs": [],
   "source": [
    "\n",
    "loss = ContrastiveLoss()"
   ]
  },
  {
   "cell_type": "code",
   "execution_count": null,
   "id": "3b3ee036",
   "metadata": {},
   "outputs": [],
   "source": []
  },
  {
   "cell_type": "markdown",
   "id": "cdd34dab",
   "metadata": {},
   "source": [
    "# Test epoch"
   ]
  },
  {
   "cell_type": "code",
   "execution_count": 1,
   "id": "80dbd1d8",
   "metadata": {},
   "outputs": [],
   "source": [
    "from dataset import DummyDataset, DummyDataLoader\n",
    "from train import Trainer\n",
    "import torch\n",
    "from main_model import MainModel"
   ]
  },
  {
   "cell_type": "code",
   "execution_count": 2,
   "id": "ec4bb268",
   "metadata": {},
   "outputs": [],
   "source": [
    "T, C, H, W = 2, 3, 128, 128\n",
    "N_MFCC = 13\n",
    "NUM_CLASSES = 2\n",
    "\n",
    "train_dataset = DummyDataset(\n",
    "    N_MFCC=N_MFCC,\n",
    "    C=C,\n",
    "    H=H,\n",
    "    W=W,\n",
    "    T=T,\n",
    ")\n",
    "train_loader = DummyDataLoader(\n",
    "    train_dataset,\n",
    "    batch_size=1,\n",
    "    shuffle=True,\n",
    "    num_workers=0,\n",
    ")"
   ]
  },
  {
   "cell_type": "code",
   "execution_count": 3,
   "id": "e7db5b46",
   "metadata": {},
   "outputs": [
    {
     "name": "stderr",
     "output_type": "stream",
     "text": [
      "d:\\Program Files\\Python312\\Lib\\site-packages\\torch\\functional.py:539: UserWarning: torch.meshgrid: in an upcoming release, it will be required to pass the indexing argument. (Triggered internally at C:\\actions-runner\\_work\\pytorch\\pytorch\\pytorch\\aten\\src\\ATen\\native\\TensorShape.cpp:3638.)\n",
      "  return _VF.meshgrid(tensors, **kwargs)  # type: ignore[attr-defined]\n"
     ]
    }
   ],
   "source": [
    "model = MainModel(\n",
    "    T=T,\n",
    "    C=C,\n",
    "    H=H,\n",
    "    W=W,\n",
    "    N_MFCC=N_MFCC,\n",
    "    num_classes=NUM_CLASSES,\n",
    ")\n",
    "\n",
    "device = torch.device(\"cuda\" if torch.cuda.is_available() else \"cpu\")\n",
    "model = model.to(device)\n",
    "optimizer = torch.optim.Adam(model.parameters(), lr=1e-4)\n",
    "scheduler = torch.optim.lr_scheduler.StepLR(\n",
    "    optimizer, step_size=10, gamma=0.1\n",
    ")\n",
    "\n",
    "trainer = Trainer(\n",
    "    model=model,\n",
    "    optimizer=optimizer,\n",
    "    scheduler=scheduler,\n",
    "    device=device,\n",
    ")"
   ]
  },
  {
   "cell_type": "code",
   "execution_count": null,
   "id": "6cd36d3b",
   "metadata": {},
   "outputs": [],
   "source": []
  },
  {
   "cell_type": "code",
   "execution_count": null,
   "id": "5c4df83e",
   "metadata": {},
   "outputs": [],
   "source": []
  },
  {
   "cell_type": "code",
   "execution_count": null,
   "id": "3f5f2276",
   "metadata": {},
   "outputs": [],
   "source": []
  },
  {
   "cell_type": "code",
   "execution_count": null,
   "id": "585c27f9",
   "metadata": {},
   "outputs": [],
   "source": []
  },
  {
   "cell_type": "code",
   "execution_count": null,
   "id": "672e234d",
   "metadata": {},
   "outputs": [],
   "source": []
  },
  {
   "cell_type": "code",
   "execution_count": null,
   "id": "2d2561f1",
   "metadata": {},
   "outputs": [],
   "source": []
  }
 ],
 "metadata": {
  "kernelspec": {
   "display_name": "Python 3",
   "language": "python",
   "name": "python3"
  },
  "language_info": {
   "codemirror_mode": {
    "name": "ipython",
    "version": 3
   },
   "file_extension": ".py",
   "mimetype": "text/x-python",
   "name": "python",
   "nbconvert_exporter": "python",
   "pygments_lexer": "ipython3",
   "version": "3.12.10"
  }
 },
 "nbformat": 4,
 "nbformat_minor": 5
}
