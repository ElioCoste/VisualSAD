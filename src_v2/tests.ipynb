{
 "cells": [
  {
   "cell_type": "markdown",
   "id": "d0d33b6b",
   "metadata": {},
   "source": [
    "# Visual features extraction"
   ]
  },
  {
   "cell_type": "code",
   "execution_count": 1,
   "id": "6e0a47e4",
   "metadata": {},
   "outputs": [],
   "source": [
    "from main_model import MainModel"
   ]
  },
  {
   "cell_type": "code",
   "execution_count": null,
   "id": "a14098e4",
   "metadata": {},
   "outputs": [],
   "source": [
    "from config import cfg, input_shape\n",
    "from utils import T, C, NUM_CLASSES\n",
    "from detectron2.layers import ShapeSpec\n",
    "import torch\n",
    "\n",
    "B = 1\n",
    "T = 5\n",
    "\n",
    "input_shape = ShapeSpec(\n",
    "    channels=C,\n",
    "    height=256,\n",
    "    width=256,\n",
    ")\n",
    "\n",
    "model = MainModel(\n",
    "    input_shape_resnet=input_shape,\n",
    "    resnet_cfg=cfg,\n",
    "    T=T,\n",
    "    num_classes=NUM_CLASSES,\n",
    ")\n",
    "\n",
    "visual_features = model.forward_visual_encoder(torch.randn(B, T, C, 256, 256))\n",
    "audio_features = model.forward_audio_encoder(torch.randn(B, 4*T, 13))\n",
    "fused_features = model.forward_fusion(visual_features, audio_features)\n",
    "del visual_features, audio_features\n",
    "head_output = model.forward_head(fused_features)\n",
    "del fused_features"
   ]
  },
  {
   "cell_type": "code",
   "execution_count": 3,
   "id": "ad3ebecb",
   "metadata": {},
   "outputs": [
    {
     "data": {
      "text/plain": [
       "[torch.Size([5, 67, 64, 64]),\n",
       " torch.Size([5, 67, 32, 32]),\n",
       " torch.Size([5, 67, 16, 16]),\n",
       " torch.Size([5, 67, 8, 8]),\n",
       " torch.Size([5, 67, 4, 4])]"
      ]
     },
     "execution_count": 3,
     "metadata": {},
     "output_type": "execute_result"
    }
   ],
   "source": [
    "[head_output[i].shape for i in range(len(head_output))]"
   ]
  },
  {
   "cell_type": "code",
   "execution_count": 8,
   "id": "c359fbdc",
   "metadata": {},
   "outputs": [],
   "source": [
    "from detection_head import Head"
   ]
  },
  {
   "cell_type": "code",
   "execution_count": 9,
   "id": "6d25221c",
   "metadata": {},
   "outputs": [],
   "source": [
    "detector = Head(nc=80, filters=[128, 128, 128, 128, 128])"
   ]
  },
  {
   "cell_type": "code",
   "execution_count": 14,
   "id": "3968ffcd",
   "metadata": {},
   "outputs": [],
   "source": [
    "fused_features = [\n",
    "    feature_map.transpose(1, 2).view(B*T, 128, feature_map.shape[-2], feature_map.shape[-1])\n",
    "    for feature_map in fused_features.values()\n",
    "]"
   ]
  },
  {
   "cell_type": "code",
   "execution_count": 15,
   "id": "36d36973",
   "metadata": {},
   "outputs": [
    {
     "data": {
      "text/plain": [
       "[torch.Size([5, 128, 64, 64]),\n",
       " torch.Size([5, 128, 32, 32]),\n",
       " torch.Size([5, 128, 16, 16]),\n",
       " torch.Size([5, 128, 8, 8]),\n",
       " torch.Size([5, 128, 4, 4])]"
      ]
     },
     "execution_count": 15,
     "metadata": {},
     "output_type": "execute_result"
    }
   ],
   "source": [
    "[fused_features[i].shape for i in range(len(fused_features))]"
   ]
  },
  {
   "cell_type": "code",
   "execution_count": 16,
   "id": "d5d12ebc",
   "metadata": {},
   "outputs": [],
   "source": [
    "detector_out = detector(fused_features)"
   ]
  },
  {
   "cell_type": "code",
   "execution_count": 19,
   "id": "632bca85",
   "metadata": {},
   "outputs": [
    {
     "data": {
      "text/plain": [
       "torch.Size([5, 144, 32, 32])"
      ]
     },
     "execution_count": 19,
     "metadata": {},
     "output_type": "execute_result"
    }
   ],
   "source": [
    "detector_out[1].shape"
   ]
  },
  {
   "cell_type": "code",
   "execution_count": null,
   "id": "cc67933b",
   "metadata": {},
   "outputs": [],
   "source": []
  }
 ],
 "metadata": {
  "kernelspec": {
   "display_name": "Python 3",
   "language": "python",
   "name": "python3"
  },
  "language_info": {
   "codemirror_mode": {
    "name": "ipython",
    "version": 3
   },
   "file_extension": ".py",
   "mimetype": "text/x-python",
   "name": "python",
   "nbconvert_exporter": "python",
   "pygments_lexer": "ipython3",
   "version": "3.12.10"
  }
 },
 "nbformat": 4,
 "nbformat_minor": 5
}
